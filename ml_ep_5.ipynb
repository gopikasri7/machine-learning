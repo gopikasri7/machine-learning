{
  "nbformat": 4,
  "nbformat_minor": 0,
  "metadata": {
    "colab": {
      "provenance": [],
      "authorship_tag": "ABX9TyOAMBcYf+xXhCm7/Bm5Jqqp",
      "include_colab_link": true
    },
    "kernelspec": {
      "name": "python3",
      "display_name": "Python 3"
    },
    "language_info": {
      "name": "python"
    }
  },
  "cells": [
    {
      "cell_type": "markdown",
      "metadata": {
        "id": "view-in-github",
        "colab_type": "text"
      },
      "source": [
        "<a href=\"https://colab.research.google.com/github/gopikasri7/machine-learning/blob/main/ml_ep_5.ipynb\" target=\"_parent\"><img src=\"https://colab.research.google.com/assets/colab-badge.svg\" alt=\"Open In Colab\"/></a>"
      ]
    },
    {
      "cell_type": "code",
      "execution_count": null,
      "metadata": {
        "id": "mtcN3LZvYCYf"
      },
      "outputs": [],
      "source": [
        "import pandas as pd\n",
        "from sklearn.cluster import KMeans\n",
        "from sklearn.datasets import load_iris\n",
        "from sklearn.metrics import confusion_matrix, accuracy_score"
      ]
    },
    {
      "cell_type": "code",
      "source": [
        "iris = load_iris()\n",
        "x=iris.data\n",
        "y=iris.target\n"
      ],
      "metadata": {
        "id": "vrWAPSQWb6l-"
      },
      "execution_count": null,
      "outputs": []
    },
    {
      "cell_type": "code",
      "source": [
        "kmeans=KMeans(n_clusters=3,random_state=42)\n",
        "y_kmeans=kmeans.fit_predict(x)"
      ],
      "metadata": {
        "id": "fk6wX4iob8jM"
      },
      "execution_count": null,
      "outputs": []
    },
    {
      "cell_type": "code",
      "source": [
        "df=-pd.DataFrame(x,columns=iris.feature_names)\n"
      ],
      "metadata": {
        "id": "F2t3h-k7cAjV"
      },
      "execution_count": null,
      "outputs": []
    },
    {
      "cell_type": "code",
      "source": [
        "df['Actual']=y\n",
        "df['Clusture']= y_kmeans"
      ],
      "metadata": {
        "id": "kb0So_sicDfV"
      },
      "execution_count": null,
      "outputs": []
    },
    {
      "cell_type": "code",
      "source": [
        "print(\"Cluster Centers:\\n\", kmeans.cluster_centers_)\n",
        "print(\"\\nSample clustured data:\\n\",df.head())"
      ],
      "metadata": {
        "colab": {
          "base_uri": "https://localhost:8080/"
        },
        "id": "DojvtXivcJDd",
        "outputId": "1ca372e4-ce98-4fe8-a025-02825cd8bd16"
      },
      "execution_count": null,
      "outputs": [
        {
          "output_type": "stream",
          "name": "stdout",
          "text": [
            "Cluster Centers:\n",
            " [[6.85384615 3.07692308 5.71538462 2.05384615]\n",
            " [5.006      3.428      1.462      0.246     ]\n",
            " [5.88360656 2.74098361 4.38852459 1.43442623]]\n",
            "\n",
            "Sample clustured data:\n",
            "    sepal length (cm)  sepal width (cm)  petal length (cm)  petal width (cm)  \\\n",
            "0               -5.1              -3.5               -1.4              -0.2   \n",
            "1               -4.9              -3.0               -1.4              -0.2   \n",
            "2               -4.7              -3.2               -1.3              -0.2   \n",
            "3               -4.6              -3.1               -1.5              -0.2   \n",
            "4               -5.0              -3.6               -1.4              -0.2   \n",
            "\n",
            "   Actual  Clusture  \n",
            "0       0         1  \n",
            "1       0         1  \n",
            "2       0         1  \n",
            "3       0         1  \n",
            "4       0         1  \n"
          ]
        }
      ]
    },
    {
      "cell_type": "code",
      "source": [
        "cm=confusion_matrix(y,y_kmeans)\n",
        "print(\"Confusion Matrix:\\n\",cm)"
      ],
      "metadata": {
        "colab": {
          "base_uri": "https://localhost:8080/"
        },
        "id": "X1OQ_eyncMBN",
        "outputId": "6b367d55-9217-4eb7-cd05-58db000ebfd9"
      },
      "execution_count": null,
      "outputs": [
        {
          "output_type": "stream",
          "name": "stdout",
          "text": [
            "Confusion Matrix:\n",
            " [[ 0 50  0]\n",
            " [ 3  0 47]\n",
            " [36  0 14]]\n"
          ]
        }
      ]
    },
    {
      "cell_type": "code",
      "source": [],
      "metadata": {
        "id": "BQcJkJgtcPLe"
      },
      "execution_count": null,
      "outputs": []
    }
  ]
}